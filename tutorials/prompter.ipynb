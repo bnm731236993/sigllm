{
 "cells": [
  {
   "cell_type": "code",
   "execution_count": 1,
   "id": "c4cc3835",
   "metadata": {},
   "outputs": [],
   "source": [
    "import mlblocks"
   ]
  },
  {
   "cell_type": "code",
   "execution_count": 4,
   "id": "32c83a5a",
   "metadata": {},
   "outputs": [],
   "source": [
    "primitives = [\n",
    "    'sklearn.impute.SimpleImputer',\n",
    "   'xgboost.XGBClassifier',\n",
    "] "
   ]
  },
  {
   "cell_type": "code",
   "execution_count": 5,
   "id": "8ae34e69",
   "metadata": {},
   "outputs": [],
   "source": [
    "pipeline = mlblocks.MLPipeline(primitives)"
   ]
  },
  {
   "cell_type": "code",
   "execution_count": null,
   "id": "262441fe-841b-4555-bf57-249305b59f92",
   "metadata": {},
   "outputs": [],
   "source": []
  },
  {
   "cell_type": "code",
   "execution_count": 4,
   "id": "be80a076",
   "metadata": {},
   "outputs": [
    {
     "name": "stdout",
     "output_type": "stream",
     "text": [
      "1.24.2\n"
     ]
    }
   ],
   "source": [
    "import numpy as np\n",
    "print(np.__version__)"
   ]
  },
  {
   "cell_type": "code",
   "execution_count": 9,
   "id": "2e548714",
   "metadata": {},
   "outputs": [
    {
     "name": "stdout",
     "output_type": "stream",
     "text": [
      "Name: numpy\r\n",
      "Version: 1.18.5\r\n",
      "Summary: NumPy is the fundamental package for array computing with Python.\r\n",
      "Home-page: https://www.numpy.org\r\n",
      "Author: Travis E. Oliphant et al.\r\n",
      "Author-email: \r\n",
      "License: BSD\r\n",
      "Location: /opt/anaconda3/lib/python3.8/site-packages\r\n",
      "Requires: \r\n",
      "Required-by: accelerate, awkward, blueqat, cirq-core, cvxpy, daal4py, dimod, dwave-neal, ecos, fastdtw, gensim, gwpy, h5py, imbalanced-learn, Keras, Keras-Preprocessing, lightgbm, lmfit, maggma, matminer, matplotlib, mendeleev, mkl-fft, mkl-random, ml-stars, mlblocks, mplhep, numba, opencv-python, opt-einsum, orion-ml, osqp, pandas, patsy, pymatgen, pyqsp, pyquil, pyts, qdldl, qiskit-aer, qiskit-aqua, qiskit-ibmq-provider, qiskit-ignis, qiskit-terra, Quandl, retworkx, robocrys, scikit-learn, scipy, scs, seaborn, spglib, statsmodels, tensorboard, tensorflow, transformers, uhi, uproot, xgboost, yfinance\r\n"
     ]
    }
   ],
   "source": [
    "!pip show numpy"
   ]
  },
  {
   "cell_type": "code",
   "execution_count": 6,
   "id": "5c14f5c7",
   "metadata": {},
   "outputs": [
    {
     "data": {
      "text/plain": [
       "(1624, 2)"
      ]
     },
     "execution_count": 6,
     "metadata": {},
     "output_type": "execute_result"
    }
   ],
   "source": [
    "from orion.data import load_signal\n",
    "\n",
    "data = load_signal('exchange-2_cpm_results')\n",
    "data.shape"
   ]
  },
  {
   "cell_type": "code",
   "execution_count": 2,
   "id": "f683c7f7",
   "metadata": {},
   "outputs": [],
   "source": [
    "#Load the signal and true anomalies\n",
    "signal_name = 'M-7'\n",
    "signal = load_signal(signal_name)\n",
    "true_ano = load_anomalies(signal_name)"
   ]
  },
  {
   "cell_type": "code",
   "execution_count": 3,
   "id": "533566d5",
   "metadata": {},
   "outputs": [],
   "source": [
    "#Get values and indices of signal \n",
    "values = signal['value'].values\n",
    "indices = signal.index.values"
   ]
  },
  {
   "cell_type": "code",
   "execution_count": 4,
   "id": "a488bc32",
   "metadata": {},
   "outputs": [],
   "source": [
    "#make rolling windows\n",
    "window_size = 2500\n",
    "step_size = 500\n",
    "windows, start_indices = rolling_window_sequences(values, indices, window_size, step_size)"
   ]
  },
  {
   "cell_type": "code",
   "execution_count": 5,
   "id": "35c41874",
   "metadata": {},
   "outputs": [],
   "source": [
    "#rolling window anomaly detection\n",
    "final_ano = []\n",
    "i = 0\n",
    "for seq in windows: \n",
    "    #to print out where the error was thrown out\n",
    "    i+= 1\n",
    "    try:\n",
    "        final_ano.append(get_anomalies(seq, create_message_zero_shot, get_gpt_model_response))\n",
    "    except Exception as error:\n",
    "        print(error)\n",
    "        print(i)\n",
    "        break"
   ]
  },
  {
   "cell_type": "code",
   "execution_count": 8,
   "id": "b49c4fbf",
   "metadata": {},
   "outputs": [],
   "source": [
    "final_res = merge_anomaly_seq(final_ano, start_indices, window_size, step_size, beta = 0)"
   ]
  },
  {
   "cell_type": "code",
   "execution_count": 9,
   "id": "f7571fa1",
   "metadata": {},
   "outputs": [
    {
     "data": {
      "text/plain": [
       "array([ 215,  224,  225,  227,  247,  248,  249,  250,  252,  253,  254,\n",
       "        256,  562,  564,  566,  567,  568,  569,  570,  571,  572,  573,\n",
       "        574,  575,  576,  577,  578,  579,  580,  581,  738,  739,  743,\n",
       "       1444, 1524, 1525, 1526, 1527, 1528, 1529, 1530, 1531, 1532, 1533,\n",
       "       1534, 1535, 1536, 1537, 1538, 1539, 1540, 1541, 1542, 1543, 1544,\n",
       "       1545, 1546, 1547, 1548, 1549, 1550, 1551, 1552, 1553, 1554, 1555,\n",
       "       1691, 1692, 1693, 1694, 1695, 2068, 2069, 2070, 2071, 2072, 2073,\n",
       "       2074, 2075, 2076, 2077, 2078, 2079, 2080, 2081, 2082, 2083, 2084,\n",
       "       2085, 2086, 2087, 2088, 2091, 2092, 2093, 2094, 2095, 2096, 2097,\n",
       "       2098, 2099, 2100, 2101, 2102, 2103, 2104, 2105, 2106, 2107, 2108,\n",
       "       2109, 2110])"
      ]
     },
     "execution_count": 9,
     "metadata": {},
     "output_type": "execute_result"
    }
   ],
   "source": [
    "final_res"
   ]
  },
  {
   "cell_type": "code",
   "execution_count": 1,
   "id": "fd1a9ba6",
   "metadata": {},
   "outputs": [],
   "source": [
    "PROMPTS = {\n",
    "    \"system_message\": \"You are an exceptionally intelligent assistant that detect anomalies in time series data by listing all the anomalies.\",\n",
    "    \"user_message\": \"Below is a [SEQUENCE], please return the anomalies in that sequence in [RESPONSE]. Only return the numbers. [SEQUENCE]\"\n",
    "}"
   ]
  },
  {
   "cell_type": "code",
   "execution_count": 2,
   "id": "bd160c3e",
   "metadata": {},
   "outputs": [],
   "source": [
    "text = '0, 11, 3'"
   ]
  },
  {
   "cell_type": "code",
   "execution_count": 6,
   "id": "ab08a9a9",
   "metadata": {},
   "outputs": [],
   "source": [
    "message = ' '.join((PROMPTS['system_message'], PROMPTS['user_message'], text, '[RESPONSE]'))"
   ]
  },
  {
   "cell_type": "code",
   "execution_count": 7,
   "id": "11eb949c",
   "metadata": {},
   "outputs": [
    {
     "data": {
      "text/plain": [
       "'You are an exceptionally intelligent assistant that detect anomalies in time series data by listing all the anomalies. Below is a [SEQUENCE], please return the anomalies in that sequence in [RESPONSE]. Only return the numbers. [SEQUENCE] 0, 11, 3 [RESPONSE]'"
      ]
     },
     "execution_count": 7,
     "metadata": {},
     "output_type": "execute_result"
    }
   ],
   "source": [
    "message"
   ]
  },
  {
   "cell_type": "code",
   "execution_count": null,
   "id": "7b7faf94",
   "metadata": {},
   "outputs": [],
   "source": []
  }
 ],
 "metadata": {
  "kernelspec": {
   "display_name": "Python 3 (ipykernel)",
   "language": "python",
   "name": "python3"
  },
  "language_info": {
   "codemirror_mode": {
    "name": "ipython",
    "version": 3
   },
   "file_extension": ".py",
   "mimetype": "text/x-python",
   "name": "python",
   "nbconvert_exporter": "python",
   "pygments_lexer": "ipython3",
   "version": "3.8.19"
  }
 },
 "nbformat": 4,
 "nbformat_minor": 5
}
